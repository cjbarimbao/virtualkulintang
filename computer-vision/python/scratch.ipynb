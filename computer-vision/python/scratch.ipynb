{
 "cells": [
  {
   "cell_type": "code",
   "execution_count": null,
   "metadata": {},
   "outputs": [],
   "source": [
    "import cv2\n",
    "import numpy as np\n",
    "from matplotlib import pyplot as plt\n",
    "import time\n",
    "import pandas as pd\n",
    "\n",
    "\n",
    "bins = 32\n",
    "with open ('calibration.npy', 'rb') as f:\n",
    "    hmatrix = np.load(f)\n",
    "    left_g_int = np.load(f)\n",
    "    left_r_int = np.load(f)\n",
    "    right_g_int = np.load(f)\n",
    "    right_r_int =np.load(f)\n",
    "\n",
    "with open('frame.npy', 'rb') as f:\n",
    "    test_frame = np.load(f)\n",
    "\n",
    "with open('segmented.npy', 'rb') as f:\n",
    "    segmented = np.load(f)\n",
    "\n",
    "print(hmatrix.shape,left_g_int.shape,left_r_int.shape,right_g_int.shape,right_r_int.shape,test_frame.shape, segmented.shape)\n",
    "hmatrix1d = hmatrix.flatten()"
   ]
  },
  {
   "cell_type": "code",
   "execution_count": null,
   "metadata": {},
   "outputs": [],
   "source": [
    "res = np.where(hmatrix == 490)\n",
    "print(res)"
   ]
  },
  {
   "cell_type": "code",
   "execution_count": null,
   "metadata": {},
   "outputs": [],
   "source": [
    "def image_segmentation(frame):\n",
    "    # RG chromaticity of frame\n",
    "    np.seterr(invalid='ignore')\n",
    "    I = frame.sum(axis=2)\n",
    "    I[I == 0] = 100000\n",
    "\n",
    "    frame_r = frame[:,:,2] / I\n",
    "    frame_g = frame[:,:,1] / I\n",
    "    \n",
    "    frame_r_int = (frame_r*(bins-1)).astype(int)\n",
    "    frame_g_int = (frame_g*(bins-1)).astype(int)\n",
    "\n",
    "    back_projection = np.zeros(frame_r.shape, dtype = 'uint8')\n",
    "    back_projection = hmatrix1d[frame_g_int.flatten()*bins + frame_r_int.flatten()].reshape(frame_r.shape)\n",
    "    \n",
    "    #masked = cv2.bitwise_and(frame, frame, mask = back_projection)\n",
    "\n",
    "    return hmatrix, back_projection"
   ]
  },
  {
   "cell_type": "code",
   "execution_count": 61,
   "metadata": {},
   "outputs": [],
   "source": [
    "def blob_detection(frame):\n",
    "    #plt.imshow(frame)\n",
    "    #plt.show()\n",
    "    _, thresh = cv2.threshold(frame, 30, 255, cv2.THRESH_BINARY)\n",
    "    # Define a circular structuring element for dilation\n",
    "    kernel = cv2.getStructuringElement(cv2.MORPH_ELLIPSE, (15, 15))\n",
    "    # Dilate the circles using the circular structuring element\n",
    "    dilated = cv2.dilate(thresh, kernel)\n",
    "    circles = cv2.HoughCircles(dilated,cv2.HOUGH_GRADIENT,1,20,param1=50,param2=30,minRadius=0,maxRadius=0)\n",
    "    #circles = cv2.HoughCircles(dilated, cv2.HOUGH_GRADIENT, 1, minDist=30, maxRadius=-1)\n",
    "    if circles is not None:\n",
    "        circles = np.uint16(np.around(circles))\n",
    "        # Draw the detected circles on the original image\n",
    "        for circle in circles[0,:]:\n",
    "            x, y, r = circle\n",
    "        # draw the center of the circle\n",
    "            cv2.circle(dilated,(x,y),2,(0,255,0),3)\n",
    "    return circles, dilated"
   ]
  },
  {
   "cell_type": "code",
   "execution_count": null,
   "metadata": {},
   "outputs": [],
   "source": [
    "frame_width = 640\n",
    "frame_height = 480\n",
    "hmatrix, back_proj = image_segmentation(test_frame)\n",
    "#conv = back_proj.astype(np.uint8)\n",
    "plt.imshow(back_proj)\n",
    "plt.show()\n"
   ]
  },
  {
   "cell_type": "code",
   "execution_count": 62,
   "metadata": {},
   "outputs": [
    {
     "ename": "AttributeError",
     "evalue": "'NoneType' object has no attribute 'shape'",
     "output_type": "error",
     "traceback": [
      "\u001b[1;31m---------------------------------------------------------------------------\u001b[0m",
      "\u001b[1;31mAttributeError\u001b[0m                            Traceback (most recent call last)",
      "Cell \u001b[1;32mIn[62], line 4\u001b[0m\n\u001b[0;32m      1\u001b[0m circles, thresh \u001b[39m=\u001b[39m blob_detection(back_proj\u001b[39m.\u001b[39mastype(np\u001b[39m.\u001b[39muint8))\n\u001b[0;32m      3\u001b[0m \u001b[39m# Show the results\u001b[39;00m\n\u001b[1;32m----> 4\u001b[0m \u001b[39mprint\u001b[39m(circles\u001b[39m.\u001b[39;49mshape)\n\u001b[0;32m      5\u001b[0m plt\u001b[39m.\u001b[39mimshow(thresh)\n\u001b[0;32m      6\u001b[0m plt\u001b[39m.\u001b[39mshow()\n",
      "\u001b[1;31mAttributeError\u001b[0m: 'NoneType' object has no attribute 'shape'"
     ]
    }
   ],
   "source": [
    "circles, thresh = blob_detection(back_proj.astype(np.uint8))\n",
    "\n",
    "# Show the results\n",
    "print(circles.shape)\n",
    "plt.imshow(thresh)\n",
    "plt.show()"
   ]
  },
  {
   "cell_type": "code",
   "execution_count": null,
   "metadata": {},
   "outputs": [],
   "source": [
    "\n",
    "# Draw the detected circles on the original image\n",
    "for circle in circles[0,:]:\n",
    "    x, y, r = circle\n",
    "    cv2.circle(back_proj, (x, y), r, (0, 255, 0), 2)\n",
    "\n",
    "plt.imshow(back_proj)\n",
    "plt.show()"
   ]
  }
 ],
 "metadata": {
  "kernelspec": {
   "display_name": "base",
   "language": "python",
   "name": "python3"
  },
  "language_info": {
   "codemirror_mode": {
    "name": "ipython",
    "version": 3
   },
   "file_extension": ".py",
   "mimetype": "text/x-python",
   "name": "python",
   "nbconvert_exporter": "python",
   "pygments_lexer": "ipython3",
   "version": "3.9.1"
  },
  "orig_nbformat": 4
 },
 "nbformat": 4,
 "nbformat_minor": 2
}
