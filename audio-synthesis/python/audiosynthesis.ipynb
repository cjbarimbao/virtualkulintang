{
 "cells": [
  {
   "cell_type": "code",
   "execution_count": 21,
   "metadata": {},
   "outputs": [],
   "source": [
    "import numpy as np\n",
    "import matplotlib.pyplot as plt\n",
    "import sounddevice as sd\n",
    "import pandas as pd"
   ]
  },
  {
   "cell_type": "code",
   "execution_count": 38,
   "metadata": {},
   "outputs": [],
   "source": [
    "# Set the sampling frequency\n",
    "Fs = 44100\n",
    "\n",
    "# Read first row of the text file containing the synthesis parameters using numpy\n",
    "data = np.loadtxt('g1_s1_beed_est_l.txt', max_rows=1)\n",
    "\n",
    "Nf, n = data[:-1].astype(int)\n",
    "dt = data[-1].astype(float)\n",
    "\n",
    "# Get the amplitude and frequency values and store in an ndarray\n",
    "data = np.loadtxt('g1_s1_beed_est_l.txt', skiprows=1)\n",
    "\n",
    "# Get the amplitude and frequency values and store in an ndarray\n",
    "an = data[0::2, :].astype(float)\n",
    "fn = data[1::2, :].astype(float)\n"
   ]
  },
  {
   "cell_type": "code",
   "execution_count": 39,
   "metadata": {},
   "outputs": [],
   "source": [
    "def sos_interp(a, f, Fs, dt):\n",
    "    \"\"\"\n",
    "        Interpolates the signal values of an input partial from its amplitude and frequency values\n",
    "        Adapted from sosinterp.m by Franklin Agsaway, 2005\n",
    "    \"\"\"\n",
    "\n",
    "    NperFrame = round(dt * Fs)      # number of samples per frame (original sample length per frame == 44100 * 0.015986 = 705 samples)\n",
    "    dt = NperFrame / Fs\n",
    "    Nf = len(a)     # number of frames \n",
    "\n",
    "    dA = np.append(np.diff(a), -a[-1]) / NperFrame     # amplitude increment per sample \n",
    "    # Amplitude synthesis interpolation\n",
    "    asyn = np.zeros(Nf * NperFrame)    # Each row in Ats represents the interpolated amp values of each partial\n",
    "    asyn[::NperFrame] = a\n",
    "    for i in range(1, NperFrame):\n",
    "        asyn[i::NperFrame] = asyn[(i-1)::NperFrame] + dA\n",
    "    # Frequency synthesis interpolation\n",
    "    fsyn = np.zeros(NperFrame * Nf)  # Each row in Fts represents the frame-varying freq values of each partial\n",
    "    for i in range(NperFrame):\n",
    "        fsyn[i::NperFrame] = f\n",
    "    # Phase synthesis interpolation\n",
    "    startphase = 0\n",
    "    p = np.zeros(Nf)\n",
    "    for i in range(Nf):\n",
    "        p[i] = startphase - 2 * np.pi * ((i) * dt) * f[i]\n",
    "        startphase += 2 * np.pi * dt * f[i]\n",
    "\n",
    "    psyn = np.zeros(NperFrame * Nf)  # Each row in Fts represents the frame-varying freq values of each partial\n",
    "    for i in range(NperFrame):\n",
    "        psyn[i::NperFrame] = p\n",
    "\n",
    "    t = np.arange(0, dt * Nf, 1 / Fs)\n",
    "    sig = asyn * np.sin(2 * np.pi * fsyn * t + psyn)\n",
    "\n",
    "    return sig\n",
    "\n"
   ]
  },
  {
   "cell_type": "code",
   "execution_count": 40,
   "metadata": {},
   "outputs": [],
   "source": [
    "# sos\n",
    "sig = np.zeros(71910) \n",
    "for i in range(1, len(an)):\n",
    "    partial = sos_interp(an[i], fn[i], Fs, dt)\n",
    "    sig = sig + partial\n"
   ]
  },
  {
   "cell_type": "code",
   "execution_count": 44,
   "metadata": {},
   "outputs": [],
   "source": [
    "sd.play(sig, Fs)"
   ]
  },
  {
   "cell_type": "code",
   "execution_count": 49,
   "metadata": {},
   "outputs": [
    {
     "name": "stdout",
     "output_type": "stream",
     "text": [
      "(array([13]), array([1]))\n",
      "0.585916\n",
      "0.585916\n"
     ]
    }
   ],
   "source": []
  },
  {
   "cell_type": "code",
   "execution_count": 50,
   "metadata": {},
   "outputs": [],
   "source": [
    "a = an[13]\n",
    "f = fn[13]\n",
    "\n",
    "NperFrame = round(dt * Fs)      # number of samples per frame (original sample length per frame == 44100 * 0.015986 = 705 samples)\n",
    "dt = NperFrame / Fs\n",
    "Nf = len(a)     # number of frames \n",
    "\n",
    "dA = np.append(np.diff(a), -a[-1])\n",
    "dA = dA / NperFrame     # amplitude increment per sample \n",
    "# Amplitude synthesis interpolation\n",
    "asyn = np.zeros(Nf * NperFrame)    # Each row in Ats represents the interpolated amp values of each partial\n",
    "asyn[::NperFrame] = a\n",
    "for i in range(1, NperFrame):\n",
    "    asyn[i::NperFrame] = asyn[(i-1)::NperFrame] + dA\n",
    "# Frequency synthesis interpolation\n",
    "fsyn = np.zeros(NperFrame * Nf)  # Each row in Fts represents the frame-varying freq values of each partial\n",
    "for i in range(NperFrame):\n",
    "    fsyn[i::NperFrame] = f\n",
    "# Phase synthesis interpolation\n",
    "startphase = 0\n",
    "p = np.zeros(Nf)\n",
    "for i in range(Nf):\n",
    "    p[i] = startphase - 2 * np.pi * ((i) * dt) * f[i]\n",
    "    startphase += 2 * np.pi * dt * f[i]\n",
    "\n",
    "psyn = np.zeros(NperFrame * Nf)  # Each row in Fts represents the frame-varying freq values of each partial\n",
    "for i in range(NperFrame):\n",
    "    psyn[i::NperFrame] = p\n",
    "\n",
    "t = np.arange(0, dt * Nf, 1 / Fs)\n",
    "sig = asyn * np.sin(2 * np.pi * fsyn * t + psyn)"
   ]
  },
  {
   "cell_type": "code",
   "execution_count": 53,
   "metadata": {},
   "outputs": [
    {
     "ename": "ValueError",
     "evalue": "operands could not be broadcast together with shapes (71910,) (7262910,) ",
     "output_type": "error",
     "traceback": [
      "\u001b[0;31m---------------------------------------------------------------------------\u001b[0m",
      "\u001b[0;31mValueError\u001b[0m                                Traceback (most recent call last)",
      "\u001b[1;32m/Users/cjbarimbao/Desktop/Thesis/virtualkulintang/audio-synthesis/python/audiosynthesis.ipynb Cell 8\u001b[0m in \u001b[0;36m<cell line: 9>\u001b[0;34m()\u001b[0m\n\u001b[1;32m      <a href='vscode-notebook-cell:/Users/cjbarimbao/Desktop/Thesis/virtualkulintang/audio-synthesis/python/audiosynthesis.ipynb#X15sZmlsZQ%3D%3D?line=5'>6</a>\u001b[0m Nf \u001b[39m=\u001b[39m \u001b[39mlen\u001b[39m(a)\n\u001b[1;32m      <a href='vscode-notebook-cell:/Users/cjbarimbao/Desktop/Thesis/virtualkulintang/audio-synthesis/python/audiosynthesis.ipynb#X15sZmlsZQ%3D%3D?line=7'>8</a>\u001b[0m dA \u001b[39m=\u001b[39m np\u001b[39m.\u001b[39mdiff(a) \u001b[39m/\u001b[39m NperFrame\n\u001b[0;32m----> <a href='vscode-notebook-cell:/Users/cjbarimbao/Desktop/Thesis/virtualkulintang/audio-synthesis/python/audiosynthesis.ipynb#X15sZmlsZQ%3D%3D?line=8'>9</a>\u001b[0m asyn \u001b[39m=\u001b[39m np\u001b[39m.\u001b[39;49mrepeat(a, NperFrame) \u001b[39m+\u001b[39;49m np\u001b[39m.\u001b[39;49mrepeat(np\u001b[39m.\u001b[39;49mcumsum(np\u001b[39m.\u001b[39;49mtile(dA, Nf)), NperFrame)\n\u001b[1;32m     <a href='vscode-notebook-cell:/Users/cjbarimbao/Desktop/Thesis/virtualkulintang/audio-synthesis/python/audiosynthesis.ipynb#X15sZmlsZQ%3D%3D?line=10'>11</a>\u001b[0m fsyn \u001b[39m=\u001b[39m np\u001b[39m.\u001b[39mrepeat(f, NperFrame)\n\u001b[1;32m     <a href='vscode-notebook-cell:/Users/cjbarimbao/Desktop/Thesis/virtualkulintang/audio-synthesis/python/audiosynthesis.ipynb#X15sZmlsZQ%3D%3D?line=11'>12</a>\u001b[0m psyn \u001b[39m=\u001b[39m np\u001b[39m.\u001b[39mrepeat(np\u001b[39m.\u001b[39mcumsum(\u001b[39m2\u001b[39m \u001b[39m*\u001b[39m np\u001b[39m.\u001b[39mpi \u001b[39m*\u001b[39m dt \u001b[39m*\u001b[39m f), NperFrame)\n",
      "\u001b[0;31mValueError\u001b[0m: operands could not be broadcast together with shapes (71910,) (7262910,) "
     ]
    }
   ],
   "source": [
    "a = an[13]\n",
    "f = fn[13]\n",
    "\n",
    "NperFrame = round(dt * Fs)      # number of samples per frame (original sample length per frame == 44100 * 0.015986 = 705 samples)\n",
    "dt = NperFrame / Fs\n",
    "Nf = len(a)     # number of frames\n",
    "\n",
    "dA = np.append(np.diff(a), -a[-1]) / NperFrame     # amplitude increment per sample\n",
    " \n",
    "t = np.arange(0, dt * Nf, 1 / Fs)\n",
    "asyn = np.tile(a, NperFrame) + np.repeat(np.cumsum(np.tile(dA, Nf)), NperFrame)\n",
    "fsyn = np.repeat(f, NperFrame)\n",
    "psyn = np.repeat(np.cumsum(2 * np.pi * dt * f), NperFrame)\n",
    "\n",
    "sig = asyn * np.sin(2 * np.pi * fsyn * t + psyn)"
   ]
  }
 ],
 "metadata": {
  "kernelspec": {
   "display_name": "base",
   "language": "python",
   "name": "python3"
  },
  "language_info": {
   "codemirror_mode": {
    "name": "ipython",
    "version": 3
   },
   "file_extension": ".py",
   "mimetype": "text/x-python",
   "name": "python",
   "nbconvert_exporter": "python",
   "pygments_lexer": "ipython3",
   "version": "3.9.12"
  },
  "orig_nbformat": 4
 },
 "nbformat": 4,
 "nbformat_minor": 2
}
