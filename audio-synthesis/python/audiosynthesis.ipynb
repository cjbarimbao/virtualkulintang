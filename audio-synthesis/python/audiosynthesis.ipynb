{
 "cells": [
  {
   "cell_type": "code",
   "execution_count": 1,
   "metadata": {},
   "outputs": [],
   "source": [
    "import numpy as np\n",
    "import matplotlib.pyplot as plt"
   ]
  },
  {
   "cell_type": "code",
   "execution_count": 8,
   "metadata": {},
   "outputs": [],
   "source": [
    "\n",
    "# Read text file containing the synthesis parameters\n",
    "with open('g1_s1_beed_est_l.txt', 'r') as file:\n",
    "    first_string = file.readline()  # the signal parameters\n",
    "    succeeding_strings = file.readlines() # amplitude and frequency estimates\n",
    "\n",
    "Fs = 44100\n",
    "\n",
    "# Convert the strings to floats\n",
    "tokens = first_string.split()\n",
    "Nf = float(tokens[0]) # Nf is the number of frames (samples) per time slice\n",
    "n = float(tokens[1]) # n is the number of time slices\n",
    "dt = float(tokens[2]) # dt is the time interval between time slices\n",
    "\n",
    "# Get the amplitude values and store in a list\n",
    "an = []\n",
    "for i in range(0, len(succeeding_strings), 2):\n",
    "    result = []\n",
    "    for value in succeeding_strings[i].split():\n",
    "        result.append(float(value))\n",
    "    an.append(result)\n",
    "\n",
    "# Get the frequency values and store in a list\n",
    "fn = []\n",
    "for i in range(1, len(succeeding_strings), 2):\n",
    "    result = []\n",
    "    for value in succeeding_strings[i].split():\n",
    "        result.append(float(value))\n",
    "    fn.append(result)\n",
    "\n",
    "an = np.array(an)\n",
    "fn = np.array(fn)"
   ]
  },
  {
   "cell_type": "code",
   "execution_count": 3,
   "metadata": {},
   "outputs": [],
   "source": [
    "def sos_interp(a, f, Fs, dt):\n",
    "    \"\"\"\n",
    "        Interpolates the signal values of an input partial from its amplitude and frequency values\n",
    "        Adapted from sosinterp.m by Franklin Agsaway, 2005\n",
    "    \"\"\"\n",
    "\n",
    "    NperFrame = round(dt * Fs)      # number of samples per frame (original sample length per frame == 44100 * 0.015986 = 705 samples)\n",
    "    dt = NperFrame / Fs\n",
    "    Nf = len(a)     # number of frames \n",
    "\n",
    "    dA = np.append(np.diff(a), -a[-1])\n",
    "    dA = dA / NperFrame     # amplitude increment per sample \n",
    "    # Amplitude synthesis interpolation\n",
    "    asyn = np.zeros(Nf * NperFrame)    # Each row in Ats represents the interpolated amp values of each partial\n",
    "    asyn[::NperFrame] = a\n",
    "    for i in range(1, NperFrame):\n",
    "        asyn[i::NperFrame] = asyn[(i-1)::NperFrame] + dA\n",
    "    # Frequency synthesis interpolation\n",
    "    fsyn = np.zeros(NperFrame * Nf)  # Each row in Fts represents the frame-varying freq values of each partial\n",
    "    for i in range(NperFrame):\n",
    "        fsyn[i::NperFrame] = f\n",
    "    # Phase synthesis interpolation\n",
    "    startphase = 0\n",
    "    p = np.zeros(Nf)\n",
    "    for i in range(Nf):\n",
    "        p[i] = startphase - 2 * np.pi * ((i) * dt) * f[i]\n",
    "        startphase += 2 * np.pi * dt * f[i]\n",
    "\n",
    "    psyn = np.zeros(NperFrame * Nf)  # Each row in Fts represents the frame-varying freq values of each partial\n",
    "    for i in range(NperFrame):\n",
    "        psyn[i::NperFrame] = p\n",
    "\n",
    "    t = np.arange(0, dt * Nf, 1 / Fs)\n",
    "    sig = asyn * np.sin(2 * np.pi * fsyn * t + psyn)\n",
    "\n",
    "    return sig\n",
    "\n"
   ]
  },
  {
   "cell_type": "code",
   "execution_count": 10,
   "metadata": {},
   "outputs": [],
   "source": [
    "# sos\n",
    "sig = np.zeros(71910) \n",
    "for i in range(1, len(an)):\n",
    "    partial = sos_interp(an[i], fn[i], Fs, dt)\n",
    "    sig = sig + partial"
   ]
  },
  {
   "cell_type": "code",
   "execution_count": null,
   "metadata": {},
   "outputs": [],
   "source": [
    "\n",
    "# Time specifications\n",
    "duration = 5.0 # Duration of the signal in seconds\n",
    "sampling_rate = 441000\n",
    "\n",
    "# Create an array of time values\n",
    "t = np.linspace(0, duration, int(duration * sampling_rate), endpoint=False)\n",
    "\n",
    "# Amplitude and frequency values for each sinusoid\n",
    "amplitudes = []\n",
    "frequencies = []\n",
    "\n",
    "# Synthesize the signal by summing the sinusoids\n",
    "signal = np.zeros_like(t)\n",
    "for amp, freq in zip(amplitudes, frequencies):\n",
    "    signal += amp * np.sin(2 * np.pi * freq * t)\n",
    "\n",
    "# Plot the resulting waveform\n",
    "plt.figure()\n",
    "plt.plot(t, signal)\n",
    "plt.xlabel('Time (s)')\n",
    "plt.ylabel('Amplitude')\n",
    "plt.title('Synthesized Signal')\n",
    "plt.show()"
   ]
  }
 ],
 "metadata": {
  "kernelspec": {
   "display_name": "base",
   "language": "python",
   "name": "python3"
  },
  "language_info": {
   "codemirror_mode": {
    "name": "ipython",
    "version": 3
   },
   "file_extension": ".py",
   "mimetype": "text/x-python",
   "name": "python",
   "nbconvert_exporter": "python",
   "pygments_lexer": "ipython3",
   "version": "3.9.12"
  },
  "orig_nbformat": 4
 },
 "nbformat": 4,
 "nbformat_minor": 2
}
