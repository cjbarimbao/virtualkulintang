{
 "cells": [
  {
   "cell_type": "code",
   "execution_count": null,
   "metadata": {},
   "outputs": [],
   "source": [
    "import numpy as np\n",
    "import matplotlib.pyplot as plt\n",
    "import sounddevice as sd\n",
    "import pandas as pd"
   ]
  },
  {
   "cell_type": "code",
   "execution_count": null,
   "metadata": {},
   "outputs": [],
   "source": [
    "# Set the sampling frequency\n",
    "Fs = 44100\n",
    "\n",
    "# Read first row of the text file containing the synthesis parameters using numpy\n",
    "data = np.loadtxt('g1_s1_beed_est_l.txt', max_rows=1)\n",
    "\n",
    "Nf, n = data[:-1].astype(int)\n",
    "dt = data[-1].astype(float)\n",
    "\n",
    "# Get the amplitude and frequency values and store in an ndarray\n",
    "data = np.loadtxt('g1_s1_beed_est_l.txt', skiprows=1)\n",
    "\n",
    "# Get the amplitude and frequency values and store in an ndarray\n",
    "an = data[0::2, :].astype(float)\n",
    "fn = data[1::2, :].astype(float)\n"
   ]
  },
  {
   "cell_type": "code",
   "execution_count": null,
   "metadata": {},
   "outputs": [],
   "source": [
    "def sos_interp(a, f, Fs, dt):\n",
    "    \"\"\"\n",
    "        Interpolates the signal values of an input partial from its amplitude and frequency values\n",
    "        Adapted from sosinterp.m by Franklin Agsaway, 2005\n",
    "    \"\"\"\n",
    "\n",
    "    NperFrame = round(dt * Fs)      # number of samples per frame (original sample length per frame == 44100 * 0.015986 = 705 samples)\n",
    "    dt = NperFrame / Fs\n",
    "    Nf = len(a)     # number of frames \n",
    "\n",
    "    dA = np.append(np.diff(a), -a[-1]) / NperFrame     # amplitude increment per sample \n",
    "    # Amplitude synthesis interpolation\n",
    "    asyn = np.zeros(Nf * NperFrame)    # Each row in Ats represents the interpolated amp values of each partial\n",
    "    asyn[::NperFrame] = a\n",
    "    for i in range(1, NperFrame):\n",
    "        asyn[i::NperFrame] = asyn[(i-1)::NperFrame] + dA\n",
    "    # Frequency synthesis interpolation\n",
    "    fsyn = np.zeros(NperFrame * Nf)  # Each row in Fts represents the frame-varying freq values of each partial\n",
    "    for i in range(NperFrame):\n",
    "        fsyn[i::NperFrame] = f\n",
    "    # Phase synthesis interpolation\n",
    "    startphase = 0\n",
    "    p = np.zeros(Nf)\n",
    "    for i in range(Nf):\n",
    "        p[i] = startphase - 2 * np.pi * ((i) * dt) * f[i]\n",
    "        startphase += 2 * np.pi * dt * f[i]\n",
    "\n",
    "    psyn = np.zeros(NperFrame * Nf)  # Each row in Fts represents the frame-varying freq values of each partial\n",
    "    for i in range(NperFrame):\n",
    "        psyn[i::NperFrame] = p\n",
    "\n",
    "    t = np.arange(0, dt * Nf, 1 / Fs)\n",
    "    sig = asyn * np.sin(2 * np.pi * fsyn * t + psyn)\n",
    "\n",
    "    return sig\n",
    "\n"
   ]
  },
  {
   "cell_type": "code",
   "execution_count": null,
   "metadata": {},
   "outputs": [],
   "source": [
    "# sos\n",
    "sig = np.zeros(71910) \n",
    "for i in range(1, len(an)):\n",
    "    partial = sos_interp(an[i], fn[i], Fs, dt)\n",
    "    sig = sig + partial\n"
   ]
  },
  {
   "cell_type": "code",
   "execution_count": 71,
   "metadata": {},
   "outputs": [],
   "source": [
    "a = an[13]\n",
    "f = fn[13]\n",
    "\n",
    "NperFrame = round(dt * Fs)      # number of samples per frame (original sample length per frame == 44100 * 0.015986 = 705 samples)\n",
    "dt = NperFrame / Fs\n",
    "Nf = len(a)     # number of frames \n",
    "\n",
    "dA = np.append(np.diff(a), -a[-1])\n",
    "dA = dA / NperFrame     # amplitude increment per sample \n",
    "# Amplitude synthesis interpolation\n",
    "asyn = np.zeros(Nf * NperFrame)    # Each row in Ats represents the interpolated amp values of each partial\n",
    "asyn[::NperFrame] = a\n",
    "for i in range(1, NperFrame):\n",
    "    asyn[i::NperFrame] = asyn[(i-1)::NperFrame] + dA\n",
    "# Frequency synthesis interpolation\n",
    "fsyn = np.zeros(NperFrame * Nf)  # Each row in Fts represents the frame-varying freq values of each partial\n",
    "for i in range(NperFrame):\n",
    "    fsyn[i::NperFrame] = f\n",
    "# Phase synthesis interpolation\n",
    "startphase = 0\n",
    "p = np.zeros(Nf)\n",
    "for i in range(Nf):\n",
    "    p[i] = startphase - 2 * np.pi * ((i) * dt) * f[i]\n",
    "    startphase += 2 * np.pi * dt * f[i]\n",
    "\n",
    "psyn = np.zeros(NperFrame * Nf)  # Each row in Fts represents the frame-varying freq values of each partial\n",
    "for i in range(NperFrame):\n",
    "    psyn[i::NperFrame] = p\n",
    "\n",
    "t = np.arange(0, dt * Nf, 1 / Fs)\n",
    "sig = asyn * np.sin(2 * np.pi * fsyn * t + psyn)"
   ]
  },
  {
   "cell_type": "code",
   "execution_count": 73,
   "metadata": {},
   "outputs": [],
   "source": [
    "a = an[13]\n",
    "f = fn[13]\n",
    "\n",
    "NperFrame = round(dt * Fs)      # number of samples per frame (original sample length per frame == 44100 * 0.015986 = 705 samples)\n",
    "dt = NperFrame / Fs\n",
    "Nf = len(a)     # number of frames \n",
    "\n",
    "dA = np.append(np.diff(a), -a[-1]) / NperFrame     # amplitude increment per sample \n",
    "# Amplitude synthesis interpolation\n",
    "a_interp = np.interp(np.arange(0, NperFrame * Nf), np.arange(0, NperFrame * Nf, NperFrame), a)\n",
    "# Frequency synthesis interpolation\n",
    "f_interp = np.interp(np.arange(0, NperFrame * Nf), np.arange(0, NperFrame * Nf, NperFrame), f)"
   ]
  },
  {
   "cell_type": "code",
   "execution_count": 80,
   "metadata": {},
   "outputs": [
    {
     "data": {
      "image/png": "[encoded data removed]",
      "text/plain": [
       "<Figure size 640x480 with 1 Axes>"
      ]
     },
     "metadata": {},
     "output_type": "display_data"
    },
    {
     "name": "stdout",
     "output_type": "stream",
     "text": [
      "11730.649215999827\n"
     ]
    }
   ],
   "source": [
    "# calculate error between fsyn and f_interp and plot the two in one graph\n",
    "error = np.abs(fsyn - f_interp)\n",
    "plt.plot(fsyn)\n",
    "plt.plot(f_interp)\n",
    "plt.plot(error)\n",
    "# add labels\n",
    "plt.xlabel('Sample')\n",
    "plt.ylabel('Frequency (Hz)')\n",
    "plt.legend(['fsyn', 'f_interp', 'error'])\n",
    "plt.show()\n",
    "# calculate rmse between fsyn and f_interp\n",
    "print(error.sum())\n",
    "\n"
   ]
  }
 ],
 "metadata": {
  "kernelspec": {
   "display_name": "base",
   "language": "python",
   "name": "python3"
  },
  "language_info": {
   "codemirror_mode": {
    "name": "ipython",
    "version": 3
   },
   "file_extension": ".py",
   "mimetype": "text/x-python",
   "name": "python",
   "nbconvert_exporter": "python",
   "pygments_lexer": "ipython3",
   "version": "3.9.12"
  },
  "orig_nbformat": 4
 },
 "nbformat": 4,
 "nbformat_minor": 2
}
