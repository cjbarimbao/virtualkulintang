{
 "cells": [
  {
   "cell_type": "code",
   "execution_count": 1,
   "metadata": {},
   "outputs": [],
   "source": [
    "import numpy as np\n",
    "import matplotlib.pyplot as plt\n",
    "import sounddevice as sd\n",
    "import pandas as pd"
   ]
  },
  {
   "cell_type": "code",
   "execution_count": 2,
   "metadata": {},
   "outputs": [],
   "source": [
    "# Set the sampling frequency\n",
    "Fs = 44100\n",
    "\n",
    "# Read first row of the text file containing the synthesis parameters using numpy\n",
    "data = np.loadtxt('g1_s1_beed_est_l.txt', max_rows=1)\n",
    "\n",
    "Nf, n = data[:-1].astype(int)\n",
    "dt = data[-1].astype(float)\n",
    "\n",
    "# Get the amplitude and frequency values and store in an ndarray\n",
    "data = np.loadtxt('g1_s1_beed_est_l.txt', skiprows=1)\n",
    "\n",
    "# Get the amplitude and frequency values and store in an ndarray\n",
    "an = data[0::2, :].astype(float)\n",
    "fn = data[1::2, :].astype(float)\n"
   ]
  },
  {
   "cell_type": "code",
   "execution_count": 3,
   "metadata": {},
   "outputs": [],
   "source": [
    "def sos_interp(a, f, Fs, dt):\n",
    "    \"\"\"\n",
    "        Interpolates the signal values of an input partial from its amplitude and frequency values\n",
    "        Adapted from sosinterp.m by Franklin Agsaway, 2005\n",
    "    \"\"\"\n",
    "\n",
    "    NperFrame = round(dt * Fs)      # number of samples per frame (original sample length per frame == 44100 * 0.015986 = 705 samples)\n",
    "    dt = NperFrame / Fs\n",
    "    Nf = len(a)     # number of frames \n",
    "\n",
    "    dA = np.append(np.diff(a), -a[-1]) / NperFrame     # amplitude increment per sample \n",
    "    # Amplitude synthesis interpolation\n",
    "    asyn = np.zeros(Nf * NperFrame)    # Each row in Ats represents the interpolated amp values of each partial\n",
    "    asyn[::NperFrame] = a\n",
    "    for i in range(1, NperFrame):\n",
    "        asyn[i::NperFrame] = asyn[(i-1)::NperFrame] + dA\n",
    "    # Frequency synthesis interpolation\n",
    "    fsyn = np.zeros(NperFrame * Nf)  # Each row in Fts represents the frame-varying freq values of each partial\n",
    "    for i in range(NperFrame):\n",
    "        fsyn[i::NperFrame] = f\n",
    "    # Phase synthesis interpolation\n",
    "    startphase = 0\n",
    "    p = np.zeros(Nf)\n",
    "    for i in range(Nf):\n",
    "        p[i] = startphase - 2 * np.pi * ((i) * dt) * f[i]\n",
    "        startphase += 2 * np.pi * dt * f[i]\n",
    "\n",
    "    psyn = np.zeros(NperFrame * Nf)  # Each row in Fts represents the frame-varying freq values of each partial\n",
    "    for i in range(NperFrame):\n",
    "        psyn[i::NperFrame] = p\n",
    "\n",
    "    t = np.arange(0, dt * Nf, 1 / Fs)\n",
    "    sig = asyn * np.sin(2 * np.pi * fsyn * t + psyn)\n",
    "\n",
    "    return sig"
   ]
  },
  {
   "cell_type": "code",
   "execution_count": 4,
   "metadata": {},
   "outputs": [],
   "source": [
    "def sos_interp2(a, f, Fs, dt):\n",
    "    \"\"\"\n",
    "        Interpolates the signal values of an input partial from its amplitude and frequency values\n",
    "        Adapted from sosinterp.m by Franklin Agsaway, 2005\n",
    "    \"\"\"\n",
    "\n",
    "    \n",
    "    NperFrame = round(dt * Fs)      # number of samples per frame (original sample length per frame == 44100 * 0.015986 = 705 samples)\n",
    "    dt = NperFrame / Fs\n",
    "    Nf = len(a)     # number of frames \n",
    "\n",
    "    # Amplitude synthesis interpolation\n",
    "    a_interp = np.interp(np.arange(0, NperFrame * Nf), np.arange(0, NperFrame * Nf, NperFrame), a)\n",
    "    # Frequency synthesis interpolation\n",
    "    f_interp = np.repeat(f, NperFrame)\n",
    "    # Calculate initial phase points for every frame\n",
    "    p_points = np.cumsum(2 * np.pi * dt * np.insert(f[:-1], 0, 0)) - 2 * np.pi * np.arange(Nf) * dt * f     # equivalent to startphase - 2 * np.pi * ((i) * dt) * f[i]\n",
    "    # Phase synthesis interpolation\n",
    "    p_interp = np.repeat(p_points, NperFrame)\n",
    "\n",
    "    t = np.arange(0, dt * Nf, 1 / Fs)\n",
    "    sig = a_interp * np.sin(2 * np.pi * f_interp * t + p_interp)\n",
    "\n",
    "    return sig"
   ]
  },
  {
   "cell_type": "code",
   "execution_count": 25,
   "metadata": {},
   "outputs": [
    {
     "name": "stdout",
     "output_type": "stream",
     "text": [
      "0.000657433810207135\n",
      "0.000657433810207135\n"
     ]
    }
   ],
   "source": [
    "# sos\n",
    "sig = np.zeros(71910) \n",
    "for i in range(1, len(an)):\n",
    "    partial = sos_interp(an[i], fn[i], Fs, dt)\n",
    "    sig = sig + partial\n",
    "\n",
    "# sos2\n",
    "sig2 = np.zeros(Nf * NperFrame)\n",
    "for i in range(1, len(an)):\n",
    "    partial = sos_interp2(an[i], fn[i], Fs, dt)\n",
    "    sig2 = sig2 + partial\n",
    "\n",
    "\n",
    "sig3 = np.sum([sos_interp2(an[i], fn[i], Fs, dt) for i in range(1, len(an))], axis=0)\n",
    "\n",
    "# calculate the error between the two signals\n",
    "error = np.sum(np.abs(sig - sig3))\n",
    "print(error)\n",
    "error = np.sum(np.abs(sig - sig2))\n",
    "print(error)"
   ]
  },
  {
   "cell_type": "code",
   "execution_count": 11,
   "metadata": {},
   "outputs": [],
   "source": [
    "sd.play(sig, Fs)"
   ]
  },
  {
   "cell_type": "code",
   "execution_count": 12,
   "metadata": {},
   "outputs": [],
   "source": [
    "# play the sound\n",
    "sd.play(sig2, Fs)"
   ]
  },
  {
   "cell_type": "code",
   "execution_count": 19,
   "metadata": {},
   "outputs": [],
   "source": [
    "a = an[13]\n",
    "f = fn[13]\n",
    "\n",
    "NperFrame = round(dt * Fs)      # number of samples per frame (original sample length per frame == 44100 * 0.015986 = 705 samples)\n",
    "dt = NperFrame / Fs\n",
    "Nf = len(a)     # number of frames \n",
    "\n",
    "# Amplitude synthesis interpolation\n",
    "a_interp = np.interp(np.arange(0, NperFrame * Nf), np.arange(0, NperFrame * Nf, NperFrame), a)\n",
    "a_interp2 = np.repeat(a, NperFrame)\n",
    "\n",
    "dA = np.append(np.diff(a), -a[-1]) / NperFrame     # amplitude increment per sample \n",
    "# Amplitude synthesis interpolation\n",
    "asyn = np.zeros(Nf * NperFrame)    # Each row in Ats represents the interpolated amp values of each partial\n",
    "asyn[::NperFrame] = a\n",
    "for i in range(1, NperFrame):\n",
    "    asyn[i::NperFrame] = asyn[(i-1)::NperFrame] + dA"
   ]
  },
  {
   "cell_type": "code",
   "execution_count": 20,
   "metadata": {},
   "outputs": [],
   "source": [
    "x = np.arange(0, NperFrame * Nf)\n",
    "xp = np.arange(0, NperFrame * Nf, NperFrame)"
   ]
  },
  {
   "cell_type": "code",
   "execution_count": 21,
   "metadata": {},
   "outputs": [
    {
     "name": "stdout",
     "output_type": "stream",
     "text": [
      "7.140011093324446e-11\n"
     ]
    }
   ],
   "source": [
    "# print MAE between asyn and a_interp\n",
    "print(np.sum(np.abs(asyn - a_interp)))"
   ]
  }
 ],
 "metadata": {
  "kernelspec": {
   "display_name": "base",
   "language": "python",
   "name": "python3"
  },
  "language_info": {
   "codemirror_mode": {
    "name": "ipython",
    "version": 3
   },
   "file_extension": ".py",
   "mimetype": "text/x-python",
   "name": "python",
   "nbconvert_exporter": "python",
   "pygments_lexer": "ipython3",
   "version": "3.9.12"
  },
  "orig_nbformat": 4
 },
 "nbformat": 4,
 "nbformat_minor": 2
}
